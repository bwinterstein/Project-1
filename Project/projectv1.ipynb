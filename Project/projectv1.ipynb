{
 "cells": [
  {
   "cell_type": "code",
   "execution_count": 8,
   "id": "c19b237d",
   "metadata": {},
   "outputs": [],
   "source": [
    "def is_valid_alphabet(cipher_alphabet):\n",
    "    \"\"\"\n",
    "    This function checks to see if the cipher alphabet has repeating letters or has more than 26 letters.\n",
    "    \"\"\"\n",
    "    if len(cipher_alphabet) != 26:\n",
    "        return False\n",
    "    for letter in cipher_alphabet:\n",
    "        if cipher_alphabet.count(letter) >1: #checks to see if there are duplicate letters\n",
    "            return False\n",
    "    return True\n",
    "\n",
    "def make_cipher_alphabet(keyword):\n",
    "    \"\"\"\n",
    "    This function creats the cipher alphabet, and adds the keyword to the front of the\n",
    "    new alphabet and fills the rest of the alphabet with letters that weren't used in the keyword\n",
    "    \"\"\"\n",
    "    alphabet = \"abcdefghijklmnopqrstuvwxyz\"\n",
    "    keyword = keyword.lower()\n",
    "    result = \"\"\n",
    "\n",
    "    #Adds the keyword letters to the front\n",
    "    for char in keyword:\n",
    "        if \"a\" <= char <= \"z\": #makes sure char is an actual letter\n",
    "            already_in = False\n",
    "            for r in result: #loops through resuls\n",
    "                if r == char: #checks to see if 'r' is already in results\n",
    "                    already_in = True\n",
    "            if not already_in: #adds r to results if it is not already in\n",
    "                result += char\n",
    "\n",
    "    #Adds the remaining letters after the keyword\n",
    "    for char in alphabet:\n",
    "        already_in = False\n",
    "        for r in result:\n",
    "            if r == char:\n",
    "                already_in = True\n",
    "        if not already_in: \n",
    "            result += char\n",
    "    correct_cipher = is_valid_alphabet(result) #checks to see if cipher alphabet is valid\n",
    "    if correct_cipher:\n",
    "        return result\n",
    "    else:\n",
    "        print(\"Invalid cipher alphabet\")\n"
   ]
  },
  {
   "cell_type": "code",
   "execution_count": 6,
   "id": "888d9956",
   "metadata": {},
   "outputs": [
    {
     "data": {
      "text/plain": [
       "'homeabcdfgijklnpqrstuvwxyz'"
      ]
     },
     "execution_count": 6,
     "metadata": {},
     "output_type": "execute_result"
    }
   ],
   "source": [
    "keyword = input(\"Type a keyword to use: \")\n",
    "make_cipher_alphabet(keyword)"
   ]
  },
  {
   "cell_type": "code",
   "execution_count": null,
   "id": "e4133590",
   "metadata": {},
   "outputs": [],
   "source": []
  }
 ],
 "metadata": {
  "kernelspec": {
   "display_name": "Python 3",
   "language": "python",
   "name": "python3"
  },
  "language_info": {
   "codemirror_mode": {
    "name": "ipython",
    "version": 3
   },
   "file_extension": ".py",
   "mimetype": "text/x-python",
   "name": "python",
   "nbconvert_exporter": "python",
   "pygments_lexer": "ipython3",
   "version": "3.12.1"
  }
 },
 "nbformat": 4,
 "nbformat_minor": 5
}
