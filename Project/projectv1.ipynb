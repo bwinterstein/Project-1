{
 "cells": [
  {
   "cell_type": "code",
   "execution_count": null,
   "id": "c19b237d",
   "metadata": {},
   "outputs": [],
   "source": [
    "def is_valid_alphabet(cipher_alphabet):\n",
    "    \"\"\"\n",
    "    This function checks to see if the cipher alphabet has repeating letters or has more than 26 letters.\n",
    "    \"\"\"\n",
    "    if len(cipher_alphabet) != 26:\n",
    "        return False\n",
    "    for letter in cipher_alphabet:\n",
    "        if cipher_alphabet.count(letter) >1: #checks to see if there are duplicate letters\n",
    "            return False\n",
    "    return True\n"
   ]
  }
 ],
 "metadata": {
  "language_info": {
   "name": "python"
  }
 },
 "nbformat": 4,
 "nbformat_minor": 5
}
