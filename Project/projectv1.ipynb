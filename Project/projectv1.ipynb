{
 "cells": [
  {
   "cell_type": "code",
   "execution_count": null,
   "id": "0",
   "metadata": {},
   "outputs": [],
   "source": [
    "def is_valid_alphabet(cipher_alphabet):\n",
    "    \"\"\"\n",
    "    This function checks to see if the cipher alphabet has repeating letters or has more than 26 letters.\n",
    "    \"\"\"\n",
    "    if len(cipher_alphabet) != 26:\n",
    "        return False\n",
    "    for letter in cipher_alphabet:\n",
    "        if cipher_alphabet.count(letter) >1: #checks to see if there are duplicate letters\n",
    "            return False\n",
    "    return True"
   ]
  },
  {
   "cell_type": "code",
   "execution_count": null,
   "id": "1",
   "metadata": {},
   "outputs": [],
   "source": [
    "def make_keyword_cipher(keyword):\n",
    "    \"\"\"\n",
    "    This function creats the cipher alphabet, and adds the keyword to the front of the\n",
    "    new alphabet and fills the rest of the alphabet with letters that weren't used in the keyword\n",
    "    \"\"\"\n",
    "    alphabet = \"abcdefghijklmnopqrstuvwxyz\"\n",
    "    keyword = keyword.lower()\n",
    "    result = \"\"\n",
    "\n",
    "    #Adds the keyword letters to the front\n",
    "    for char in keyword:\n",
    "        if \"a\" <= char <= \"z\": #makes sure char is an actual letter\n",
    "            already_in = False\n",
    "            for r in result: #loops through resuls\n",
    "                if r == char: #checks to see if 'r' is already in results\n",
    "                    already_in = True\n",
    "            if not already_in: #adds r to results if it is not already in\n",
    "                result += char\n",
    "\n",
    "    #Adds the remaining letters after the keyword\n",
    "    for char in alphabet:\n",
    "        already_in = False\n",
    "        for r in result:\n",
    "            if r == char:\n",
    "                already_in = True\n",
    "        if not already_in: \n",
    "            result += char\n",
    "    correct_cipher = is_valid_alphabet(result) #checks to see if cipher alphabet is valid\n",
    "    if correct_cipher:\n",
    "        return result\n",
    "    else:\n",
    "        print(\"Invalid cipher alphabet\")\n"
   ]
  },
  {
   "cell_type": "code",
   "execution_count": null,
   "id": "2",
   "metadata": {},
   "outputs": [],
   "source": [
    "def substitution_encrypt(plaintext_file, ciphertext_file, cipher_alphabet):\n",
    "    \"\"\"\n",
    "    This function reads text from the plaintext_file then encrypts it,\n",
    "    and writes the result to ciphertext_file.\n",
    "    \"\"\"\n",
    "    alphabet = \"abcdefghijklmnopqrstuvwxyz\"\n",
    "    if not is_valid_alphabet(cipher_alphabet):\n",
    "        print(\"Invalid cipher alphabet\")\n",
    "        return \n",
    "    \n",
    "    #Makes a dictionary to map regular letters to encrypted letters\n",
    "    encrypt_alphabet = {}\n",
    "    for i in range(26):\n",
    "        encrypt_alphabet[alphabet[i]] = cipher_alphabet[i]\n",
    "    \n",
    "    with open(plaintext_file, \"r\") as read_file:\n",
    "        plaintext = read_file.read()\n",
    "    \n",
    "    ciphertext = \"\"\n",
    "    for char in plaintext:\n",
    "        if \"a\" <= char <= \"z\":\n",
    "            ciphertext += encrypt_alphabet[char]\n",
    "        elif \"A\" <= char <= \"Z\":\n",
    "            ciphertext += encrypt_alphabet[char.lower()].upper() # had to add .lower() because of error \"E\"\n",
    "        else:\n",
    "            ciphertext += char #spaces/punctuation just get added on to stay the same\n",
    "\n",
    "    with open(ciphertext_file, \"w\") as write_file:\n",
    "        write_file.write(ciphertext)"
   ]
  },
  {
   "cell_type": "code",
   "execution_count": null,
   "id": "3",
   "metadata": {},
   "outputs": [],
   "source": [
    "def substitution_decrypt(ciphertext_file, plaintext_file, cipher_alphabet):\n",
    "    \"\"\"\n",
    "    This function reads text from the ciphertext_file, decrypts it, then \n",
    "    writes the result in plaintext_file\n",
    "    \"\"\"\n",
    "    alphabet = \"abcdefghijklmnopqrstuvwxyz\"\n",
    "    if not is_valid_alphabet(cipher_alphabet):\n",
    "        print(\"Invalid cipher alphabet\")\n",
    "        return\n",
    "    \n",
    "    #Makes dictionary to map encrypted letters to regular letters\n",
    "    decrypt_alphabet = {}\n",
    "    for i in range(26):\n",
    "        decrypt_alphabet[cipher_alphabet[i]] = alphabet[i]\n",
    "    \n",
    "    with open(ciphertext_file, \"r\") as read_file:\n",
    "        ciphertext = read_file.read()\n",
    "    \n",
    "    plaintext = \"\"\n",
    "    for char in ciphertext:\n",
    "        if \"a\" <= char <= \"z\":\n",
    "            plaintext += decrypt_alphabet[char]\n",
    "        elif \"A\" <= char <= \"Z\":\n",
    "            plaintext += decrypt_alphabet[char.lower()].upper()\n",
    "        else:\n",
    "            plaintext += char\n",
    "\n",
    "    with open(ciphertext_file, \"w\") as write_file:\n",
    "        write_file.write(plaintext)\n"
   ]
  },
  {
   "cell_type": "code",
   "execution_count": null,
   "id": "4",
   "metadata": {},
   "outputs": [],
   "source": [
    "def keyword_encrypt(plaintext_file, ciphertext_file, keyword):\n",
    "    \"\"\"\n",
    "    This function encrypts the plaintext_file with a keyword substitution cipher\n",
    "    \"\"\"\n",
    "    cipher_alphabet = make_keyword_cipher(keyword)\n",
    "    if cipher_alphabet:\n",
    "        substitution_encrypt(plaintext_file, ciphertext_file, cipher_alphabet)\n",
    "    else:\n",
    "        print(\"Invalid keyword cipher\")"
   ]
  },
  {
   "cell_type": "code",
   "execution_count": null,
   "id": "5",
   "metadata": {},
   "outputs": [],
   "source": [
    "def keyword_decrypt(ciphertext_file, plaintext_file, keyword):\n",
    "    \"\"\"\n",
    "    This function decrypts the ciphertext_file with a keyword substitution cipher.\n",
    "    \"\"\"\n",
    "    cipher_alphabet = make_keyword_cipher(keyword)\n",
    "    if cipher_alphabet:\n",
    "        substitution_decrypt(ciphertext_file, plaintext_file, cipher_alphabet)\n",
    "    else: \n",
    "        print(\"Invalid keyword cipher\")"
   ]
  },
  {
   "cell_type": "code",
   "execution_count": null,
   "id": "6",
   "metadata": {},
   "outputs": [],
   "source": [
    "keyword = input(\"Choose a keyword to use: \")\n",
    "keyword_encrypt(\"liquid.txt\",\"cipher_liquid.txt\", keyword)"
   ]
  },
  {
   "cell_type": "code",
   "execution_count": null,
   "id": "7",
   "metadata": {},
   "outputs": [],
   "source": [
    "keyword\n",
    "keyword_decrypt(\"cipher_liquid.txt\",\"liquid.txt\",keyword)"
   ]
  },
  {
   "cell_type": "code",
   "execution_count": null,
   "id": "8",
   "metadata": {},
   "outputs": [],
   "source": [
    "cipher_alphabet = input(\"Create your own cipher alphabet (only using 1 of each letter): \")\n",
    "if is_valid_alphabet(cipher_alphabet):\n",
    "    substitution_encrypt(\"liquid.txt\", \"cipher_liquid.txt\", cipher_alphabet)\n",
    "else:\n",
    "    print(\"Invalid cipher alphabet\")"
   ]
  },
  {
   "cell_type": "code",
   "execution_count": null,
   "id": "9",
   "metadata": {},
   "outputs": [],
   "source": [
    "cipher_alphabet\n",
    "substitution_decrypt(\"cipher_liquid.txt\", \"liquid.txt\",cipher_alphabet)"
   ]
  },
  {
   "cell_type": "code",
   "execution_count": null,
   "id": "10",
   "metadata": {},
   "outputs": [],
   "source": [
    "# Reads the contents of plaintext_file,\n",
    "# encrypt it using the ROT-13 cipher,\n",
    "# and write the resulting ciphertext to ciphertext_file.\n",
    "def rot13_encrypt(plaintext_file, ciphertext_file):\n",
    "    \n",
    "    # open & reads file \n",
    "    with open(plaintext_file, \"r\") as inFile:\n",
    "        plainText = inFile.read()\n",
    "        \n",
    "    collectedText = [] # creates list to store new characters\n",
    "    \n",
    "    # Checks for letter and/or symbols in collected text\n",
    "    for letter in plainText:\n",
    "        if letter.isalpha():\n",
    "            if letter.isupper():\n",
    "                startingChar = ord('A') # gives numnerical value\n",
    "            else:\n",
    "                startingChar = ord('a')\n",
    "            \n",
    "            # encrypting\n",
    "            ciphered = (ord(letter) - startingChar + 13) % 26 + startingChar\n",
    "            collectedText.append(chr(ciphered))\n",
    "        else:\n",
    "            collectedText.append(letter)\n",
    "\n",
    "    with open(ciphertext_file, \"w\") as outFile:\n",
    "        outFile.write(\"\".join(collectedText))\n",
    "    \n"
   ]
  }
 ],
 "metadata": {
  "kernelspec": {
   "display_name": "Python 3",
   "language": "python",
   "name": "python3"
  },
  "language_info": {
   "codemirror_mode": {
    "name": "ipython",
    "version": 3
   },
   "file_extension": ".py",
   "mimetype": "text/x-python",
   "name": "python",
   "nbconvert_exporter": "python",
   "pygments_lexer": "ipython3",
   "version": "3.12.1"
  }
 },
 "nbformat": 4,
 "nbformat_minor": 5
}
