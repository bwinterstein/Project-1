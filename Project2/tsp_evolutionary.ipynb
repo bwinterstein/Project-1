{
 "cells": [
  {
   "cell_type": "markdown",
   "id": "0",
   "metadata": {},
   "source": [
    "# Pseudocode"
   ]
  },
  {
   "cell_type": "markdown",
   "id": "1",
   "metadata": {},
   "source": [
    "```text\n",
    "FUNCTION fitness(route, distance_matrix):\n",
    "    total_distance = 0\n",
    "    FOR i from 0 to length(route) - 2:\n",
    "        total_distance += total_distance + distance_matrix[route[i]][route[i+1]]\n",
    "    total_distance = total_distance = distance_matrix[route[-1]][route[0]]\n",
    "\n",
    "    RETURN total_distance\n",
    "\n",
    "FUNCTION mutate(parent_route):\n",
    "    copy_route = make a copy of the route"
   ]
  },
  {
   "cell_type": "code",
   "execution_count": null,
   "id": "2",
   "metadata": {},
   "outputs": [],
   "source": [
    "def fitness(route,distance_matrix):\n",
    "    ..."
   ]
  },
  {
   "cell_type": "code",
   "execution_count": null,
   "id": "3",
   "metadata": {},
   "outputs": [],
   "source": [
    "def mutate(parent_route):\n",
    "    ..."
   ]
  },
  {
   "cell_type": "code",
   "execution_count": null,
   "id": "4",
   "metadata": {},
   "outputs": [],
   "source": [
    "def tsp_evolution(name_file, distance_file):\n",
    "    ..."
   ]
  }
 ],
 "metadata": {
  "language_info": {
   "name": "python"
  }
 },
 "nbformat": 4,
 "nbformat_minor": 5
}
