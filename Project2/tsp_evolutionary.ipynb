{
 "cells": [
  {
   "cell_type": "markdown",
   "id": "0",
   "metadata": {},
   "source": [
    "# Pseudocode"
   ]
  },
  {
   "cell_type": "markdown",
   "id": "1",
   "metadata": {},
   "source": [
    "```text\n",
    "FUNCTION fitness(route, distance_matrix):\n",
    "    total_distance = 0\n",
    "    FOR i from 0 to length(route) - 2:\n",
    "        total_distance += total_distance + distance_matrix[route[i]][route[i+1]]\n",
    "    total_distance = total_distance = distance_matrix[route[-1]][route[0]]\n",
    "\n",
    "    RETURN total_distance\n",
    "\n",
    "FUNCTION mutate(parent_route):\n",
    "    copy_route = make a copy of the route\n",
    "    i, j = randomly select 2 different indices from copy_route\n",
    "    SWAP i,j\n",
    "\n",
    "    RETURN copy_route\n",
    "\n",
    "FUNCTION tsp_evolutionary(name_file, distance_file):\n",
    "    city_names = list of city names from name_file\n",
    "    distance_matrix = list of distances from distance_file\n",
    "    best_route = [0,1,2,3,...,n-1]\n",
    "    best_distance = fitness(best_route,distance_matrix)\n",
    "    Print \"Initial Route Distance:\", best_distance, best_route\n",
    "\n",
    "    same_count = 0\n",
    "    generation = 1\n",
    "    WHILE same_count < 3:\n",
    "        improvement_found = FALSE\n",
    "\n",
    "            FOR offspring_number from 1 to 50:\n",
    "                offspring = mutate(best_route)\n",
    "                offspring_distance = fitness(offspring,distance_matrix)\n",
    "\n",
    "                IF offspring_distance < best_distance:\n",
    "                    best_route = offspring\n",
    "                    best_distance = offspring_distance\n",
    "                    improvement_found = TRUE\n",
    "            PRINT \"Generation:\", generation, \"Best Distance:\", best_distance, \"Route:\", best_route\n",
    "\n",
    "            IF improvement_found == TRUE\n",
    "                same_count = 0\n",
    "            ELSE:\n",
    "                same_count += 1\n",
    "                IF same_count < 3:\n",
    "                    FOR k from 1 to 8:\n",
    "                        best_route = mutate(best_route)\n",
    "            generation += 1\n",
    "\n",
    "    PRINT \"Terminated after\", generation, \"generations.\"\n",
    "    PRINT \"Final Best Route Distance:\", best_distance\n",
    "    RETURN best_route\n",
    "            "
   ]
  },
  {
   "cell_type": "code",
   "execution_count": null,
   "id": "2",
   "metadata": {},
   "outputs": [],
   "source": [
    "def fitness(route,distance_matrix):\n",
    "    ..."
   ]
  },
  {
   "cell_type": "code",
   "execution_count": null,
   "id": "3",
   "metadata": {},
   "outputs": [],
   "source": [
    "def mutate(parent_route):\n",
    "    ..."
   ]
  },
  {
   "cell_type": "code",
   "execution_count": null,
   "id": "4",
   "metadata": {},
   "outputs": [],
   "source": [
    "def tsp_evolution(name_file, distance_file):\n",
    "    ..."
   ]
  }
 ],
 "metadata": {
  "language_info": {
   "name": "python"
  }
 },
 "nbformat": 4,
 "nbformat_minor": 5
}
